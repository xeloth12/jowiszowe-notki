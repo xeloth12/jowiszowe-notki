{
 "cells": [
  {
   "cell_type": "code",
   "execution_count": null,
   "id": "c4674851-42f5-4cf9-b392-2f7e75f42814",
   "metadata": {},
   "outputs": [],
   "source": [
    "print(\"Witam\")"
   ]
  }
 ],
 "metadata": {
  "kernelspec": {
   "display_name": "Python 3 (ipykernel)",
   "language": "python",
   "name": "python3"
  },
  "language_info": {
   "codemirror_mode": {
    "name": "ipython",
    "version": 3
   },
   "file_extension": ".py",
   "mimetype": "text/x-python",
   "name": "python",
   "nbconvert_exporter": "python",
   "pygments_lexer": "ipython3",
   "version": "3.10.12"
  }
 },
 "nbformat": 4,
 "nbformat_minor": 5
}
